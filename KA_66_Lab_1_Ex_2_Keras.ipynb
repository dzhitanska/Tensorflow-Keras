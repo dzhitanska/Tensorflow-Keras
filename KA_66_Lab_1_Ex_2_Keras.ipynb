{
 "cells": [
  {
   "cell_type": "markdown",
   "metadata": {
    "colab_type": "text",
    "id": "LeZiC3-IYRjc"
   },
   "source": [
    "**Практичне заняття №1. Приклад 2: Навчання лінійної регресії в Keras**"
   ]
  },
  {
   "cell_type": "code",
   "execution_count": 1,
   "metadata": {
    "colab": {
     "base_uri": "https://localhost:8080/",
     "height": 79
    },
    "colab_type": "code",
    "executionInfo": {
     "elapsed": 2988,
     "status": "ok",
     "timestamp": 1572252337434,
     "user": {
      "displayName": "Nadezhda Nedashkovskaya",
      "photoUrl": "https://lh3.googleusercontent.com/a-/AAuE7mB_ZJkTCWgNC5aVqzK-jaE7iVxRAyRTaZuWDlod=s64",
      "userId": "11216524440663778998"
     },
     "user_tz": -120
    },
    "id": "8oqo3qupYY3T",
    "outputId": "a9ca05c5-d1fa-457e-92fb-09b527d9d0d5"
   },
   "outputs": [
    {
     "name": "stderr",
     "output_type": "stream",
     "text": [
      "Using TensorFlow backend.\n"
     ]
    }
   ],
   "source": [
    "import numpy as np\n",
    "from keras.models import Sequential\n",
    "from keras.layers import Input, Dense, Activation"
   ]
  },
  {
   "cell_type": "code",
   "execution_count": 2,
   "metadata": {
    "colab": {
     "base_uri": "https://localhost:8080/",
     "height": 138
    },
    "colab_type": "code",
    "executionInfo": {
     "elapsed": 667,
     "status": "ok",
     "timestamp": 1572252430304,
     "user": {
      "displayName": "Nadezhda Nedashkovskaya",
      "photoUrl": "https://lh3.googleusercontent.com/a-/AAuE7mB_ZJkTCWgNC5aVqzK-jaE7iVxRAyRTaZuWDlod=s64",
      "userId": "11216524440663778998"
     },
     "user_tz": -120
    },
    "id": "mywZMVy7YZJD",
    "outputId": "90746802-ad72-4f0a-e5af-c0c53c3da056"
   },
   "outputs": [],
   "source": [
    "logr = Sequential()\n",
    "logr.add(Dense(1, input_dim=2, activation='sigmoid'))"
   ]
  },
  {
   "cell_type": "code",
   "execution_count": 3,
   "metadata": {
    "colab": {
     "base_uri": "https://localhost:8080/",
     "height": 154
    },
    "colab_type": "code",
    "executionInfo": {
     "elapsed": 995,
     "status": "ok",
     "timestamp": 1572252503233,
     "user": {
      "displayName": "Nadezhda Nedashkovskaya",
      "photoUrl": "https://lh3.googleusercontent.com/a-/AAuE7mB_ZJkTCWgNC5aVqzK-jaE7iVxRAyRTaZuWDlod=s64",
      "userId": "11216524440663778998"
     },
     "user_tz": -120
    },
    "id": "_lvvFHDoYZUf",
    "outputId": "2ad8532a-8701-448f-97b9-2eb0413b0d29"
   },
   "outputs": [],
   "source": [
    "logr.compile(loss='binary_crossentropy', optimizer='sgd', metrics=['accuracy'])"
   ]
  },
  {
   "cell_type": "code",
   "execution_count": 4,
   "metadata": {
    "colab": {},
    "colab_type": "code",
    "id": "KAkmZ4spZFzT"
   },
   "outputs": [],
   "source": [
    "def sampler(n, x, y):\n",
    "    return np.random.normal(size=[n, 2]) + [x, y]"
   ]
  },
  {
   "cell_type": "code",
   "execution_count": 5,
   "metadata": {
    "colab": {},
    "colab_type": "code",
    "id": "LtFE0Y9vZGDL"
   },
   "outputs": [],
   "source": [
    "def sample_data(n=1000, p0=(-1., -1.), p1=(1., 1.)):\n",
    "    zeros, ones = np.zeros((n, 1)), np.ones((n, 1))\n",
    "    labels = np.vstack([zeros, ones])\n",
    "    z_sample = sampler(n, x=p0[0], y=p0[1])\n",
    "    o_sample = sampler(n, x=p1[0], y=p1[1])\n",
    "    return np.vstack([z_sample, o_sample]), labels"
   ]
  },
  {
   "cell_type": "code",
   "execution_count": 6,
   "metadata": {
    "colab": {},
    "colab_type": "code",
    "id": "Z1flbuWcZGNl"
   },
   "outputs": [],
   "source": [
    "X_train, Y_train = sample_data()\n",
    "X_test, Y_test = sample_data(100)"
   ]
  },
  {
   "cell_type": "code",
   "execution_count": 8,
   "metadata": {},
   "outputs": [
    {
     "data": {
      "text/plain": [
       "array([[-0.3524696 , -0.14870625],\n",
       "       [-0.84752591, -0.4399526 ],\n",
       "       [-2.45611977, -1.82069121],\n",
       "       ...,\n",
       "       [ 1.52412511,  0.08181434],\n",
       "       [ 1.13843409, -0.17709041],\n",
       "       [ 0.42108391,  0.9646408 ]])"
      ]
     },
     "execution_count": 8,
     "metadata": {},
     "output_type": "execute_result"
    }
   ],
   "source": [
    "X_train"
   ]
  },
  {
   "cell_type": "code",
   "execution_count": 9,
   "metadata": {},
   "outputs": [
    {
     "data": {
      "text/plain": [
       "array([[0.],\n",
       "       [0.],\n",
       "       [0.],\n",
       "       ...,\n",
       "       [1.],\n",
       "       [1.],\n",
       "       [1.]])"
      ]
     },
     "execution_count": 9,
     "metadata": {},
     "output_type": "execute_result"
    }
   ],
   "source": [
    "Y_train"
   ]
  },
  {
   "cell_type": "code",
   "execution_count": 7,
   "metadata": {
    "colab": {
     "base_uri": "https://localhost:8080/",
     "height": 1000
    },
    "colab_type": "code",
    "executionInfo": {
     "elapsed": 18145,
     "status": "ok",
     "timestamp": 1572252709273,
     "user": {
      "displayName": "Nadezhda Nedashkovskaya",
      "photoUrl": "https://lh3.googleusercontent.com/a-/AAuE7mB_ZJkTCWgNC5aVqzK-jaE7iVxRAyRTaZuWDlod=s64",
      "userId": "11216524440663778998"
     },
     "user_tz": -120
    },
    "id": "GIpA5F8PZN2v",
    "outputId": "95aae4ee-03f3-4162-9b03-e464dff0ec5a"
   },
   "outputs": [
    {
     "name": "stderr",
     "output_type": "stream",
     "text": [
      "C:\\Anaconda3\\lib\\site-packages\\ipykernel_launcher.py:2: UserWarning: The `nb_epoch` argument in `fit` has been renamed `epochs`.\n",
      "  \n"
     ]
    },
    {
     "name": "stdout",
     "output_type": "stream",
     "text": [
      "Train on 2000 samples, validate on 200 samples\n",
      "Epoch 1/100\n",
      "2000/2000 [==============================] - 0s 154us/step - loss: 0.9330 - accuracy: 0.3235 - val_loss: 0.5619 - val_accuracy: 0.8450\n",
      "Epoch 2/100\n",
      "2000/2000 [==============================] - 0s 92us/step - loss: 0.4430 - accuracy: 0.9080 - val_loss: 0.3733 - val_accuracy: 0.9150\n",
      "Epoch 3/100\n",
      "2000/2000 [==============================] - 0s 91us/step - loss: 0.3297 - accuracy: 0.9185 - val_loss: 0.3105 - val_accuracy: 0.9200\n",
      "Epoch 4/100\n",
      "2000/2000 [==============================] - 0s 93us/step - loss: 0.2845 - accuracy: 0.9205 - val_loss: 0.2797 - val_accuracy: 0.9200\n",
      "Epoch 5/100\n",
      "2000/2000 [==============================] - 0s 92us/step - loss: 0.2604 - accuracy: 0.9210 - val_loss: 0.2615 - val_accuracy: 0.9200\n",
      "Epoch 6/100\n",
      "2000/2000 [==============================] - 0s 84us/step - loss: 0.2456 - accuracy: 0.9210 - val_loss: 0.2494 - val_accuracy: 0.9200\n",
      "Epoch 7/100\n",
      "2000/2000 [==============================] - 0s 86us/step - loss: 0.2355 - accuracy: 0.9210 - val_loss: 0.2408 - val_accuracy: 0.9250\n",
      "Epoch 8/100\n",
      "2000/2000 [==============================] - 0s 84us/step - loss: 0.2282 - accuracy: 0.9205 - val_loss: 0.2344 - val_accuracy: 0.9250\n",
      "Epoch 9/100\n",
      "2000/2000 [==============================] - 0s 83us/step - loss: 0.2227 - accuracy: 0.9205 - val_loss: 0.2295 - val_accuracy: 0.9250\n",
      "Epoch 10/100\n",
      "2000/2000 [==============================] - 0s 92us/step - loss: 0.2185 - accuracy: 0.9205 - val_loss: 0.2256 - val_accuracy: 0.9250\n",
      "Epoch 11/100\n",
      "2000/2000 [==============================] - 0s 93us/step - loss: 0.2152 - accuracy: 0.9205 - val_loss: 0.2225 - val_accuracy: 0.9250\n",
      "Epoch 12/100\n",
      "2000/2000 [==============================] - 0s 93us/step - loss: 0.2125 - accuracy: 0.9205 - val_loss: 0.2199 - val_accuracy: 0.9250\n",
      "Epoch 13/100\n",
      "2000/2000 [==============================] - 0s 88us/step - loss: 0.2103 - accuracy: 0.9210 - val_loss: 0.2177 - val_accuracy: 0.9250\n",
      "Epoch 14/100\n",
      "2000/2000 [==============================] - 0s 77us/step - loss: 0.2085 - accuracy: 0.9195 - val_loss: 0.2159 - val_accuracy: 0.9250\n",
      "Epoch 15/100\n",
      "2000/2000 [==============================] - 0s 89us/step - loss: 0.2070 - accuracy: 0.9200 - val_loss: 0.2144 - val_accuracy: 0.9250\n",
      "Epoch 16/100\n",
      "2000/2000 [==============================] - 0s 88us/step - loss: 0.2057 - accuracy: 0.9200 - val_loss: 0.2131 - val_accuracy: 0.9250\n",
      "Epoch 17/100\n",
      "2000/2000 [==============================] - 0s 80us/step - loss: 0.2046 - accuracy: 0.9195 - val_loss: 0.2119 - val_accuracy: 0.9250\n",
      "Epoch 18/100\n",
      "2000/2000 [==============================] - 0s 87us/step - loss: 0.2036 - accuracy: 0.9190 - val_loss: 0.2109 - val_accuracy: 0.9250\n",
      "Epoch 19/100\n",
      "2000/2000 [==============================] - 0s 84us/step - loss: 0.2028 - accuracy: 0.9190 - val_loss: 0.2100 - val_accuracy: 0.9300\n",
      "Epoch 20/100\n",
      "2000/2000 [==============================] - 0s 78us/step - loss: 0.2021 - accuracy: 0.9195 - val_loss: 0.2093 - val_accuracy: 0.9300\n",
      "Epoch 21/100\n",
      "2000/2000 [==============================] - 0s 89us/step - loss: 0.2014 - accuracy: 0.9190 - val_loss: 0.2086 - val_accuracy: 0.9300\n",
      "Epoch 22/100\n",
      "2000/2000 [==============================] - 0s 94us/step - loss: 0.2009 - accuracy: 0.9190 - val_loss: 0.2080 - val_accuracy: 0.9300\n",
      "Epoch 23/100\n",
      "2000/2000 [==============================] - 0s 94us/step - loss: 0.2004 - accuracy: 0.9190 - val_loss: 0.2075 - val_accuracy: 0.9300\n",
      "Epoch 24/100\n",
      "2000/2000 [==============================] - 0s 91us/step - loss: 0.1999 - accuracy: 0.9195 - val_loss: 0.2070 - val_accuracy: 0.9300\n",
      "Epoch 25/100\n",
      "2000/2000 [==============================] - 0s 88us/step - loss: 0.1996 - accuracy: 0.9190 - val_loss: 0.2065 - val_accuracy: 0.9300\n",
      "Epoch 26/100\n",
      "2000/2000 [==============================] - 0s 96us/step - loss: 0.1992 - accuracy: 0.9190 - val_loss: 0.2061 - val_accuracy: 0.9300\n",
      "Epoch 27/100\n",
      "2000/2000 [==============================] - 0s 89us/step - loss: 0.1989 - accuracy: 0.9190 - val_loss: 0.2058 - val_accuracy: 0.9300\n",
      "Epoch 28/100\n",
      "2000/2000 [==============================] - 0s 86us/step - loss: 0.1986 - accuracy: 0.9190 - val_loss: 0.2055 - val_accuracy: 0.9300\n",
      "Epoch 29/100\n",
      "2000/2000 [==============================] - 0s 77us/step - loss: 0.1984 - accuracy: 0.9200 - val_loss: 0.2052 - val_accuracy: 0.9300\n",
      "Epoch 30/100\n",
      "2000/2000 [==============================] - 0s 87us/step - loss: 0.1982 - accuracy: 0.9195 - val_loss: 0.2049 - val_accuracy: 0.9300\n",
      "Epoch 31/100\n",
      "2000/2000 [==============================] - 0s 100us/step - loss: 0.1980 - accuracy: 0.9195 - val_loss: 0.2047 - val_accuracy: 0.9300\n",
      "Epoch 32/100\n",
      "2000/2000 [==============================] - 0s 92us/step - loss: 0.1978 - accuracy: 0.9205 - val_loss: 0.2044 - val_accuracy: 0.9300\n",
      "Epoch 33/100\n",
      "2000/2000 [==============================] - 0s 83us/step - loss: 0.1976 - accuracy: 0.9200 - val_loss: 0.2042 - val_accuracy: 0.9300\n",
      "Epoch 34/100\n",
      "2000/2000 [==============================] - 0s 81us/step - loss: 0.1975 - accuracy: 0.9195 - val_loss: 0.2040 - val_accuracy: 0.9300\n",
      "Epoch 35/100\n",
      "2000/2000 [==============================] - 0s 74us/step - loss: 0.1973 - accuracy: 0.9205 - val_loss: 0.2039 - val_accuracy: 0.9300\n",
      "Epoch 36/100\n",
      "2000/2000 [==============================] - 0s 80us/step - loss: 0.1972 - accuracy: 0.9200 - val_loss: 0.2037 - val_accuracy: 0.9300\n",
      "Epoch 37/100\n",
      "2000/2000 [==============================] - 0s 80us/step - loss: 0.1971 - accuracy: 0.9195 - val_loss: 0.2036 - val_accuracy: 0.9300\n",
      "Epoch 38/100\n",
      "2000/2000 [==============================] - 0s 81us/step - loss: 0.1970 - accuracy: 0.9200 - val_loss: 0.2035 - val_accuracy: 0.9300\n",
      "Epoch 39/100\n",
      "2000/2000 [==============================] - 0s 91us/step - loss: 0.1969 - accuracy: 0.9200 - val_loss: 0.2033 - val_accuracy: 0.9300\n",
      "Epoch 40/100\n",
      "2000/2000 [==============================] - 0s 91us/step - loss: 0.1968 - accuracy: 0.9205 - val_loss: 0.2032 - val_accuracy: 0.9300\n",
      "Epoch 41/100\n",
      "2000/2000 [==============================] - 0s 90us/step - loss: 0.1968 - accuracy: 0.9200 - val_loss: 0.2031 - val_accuracy: 0.9300\n",
      "Epoch 42/100\n",
      "2000/2000 [==============================] - 0s 90us/step - loss: 0.1967 - accuracy: 0.9200 - val_loss: 0.2030 - val_accuracy: 0.9300\n",
      "Epoch 43/100\n",
      "2000/2000 [==============================] - 0s 93us/step - loss: 0.1966 - accuracy: 0.9200 - val_loss: 0.2029 - val_accuracy: 0.9300\n",
      "Epoch 44/100\n",
      "2000/2000 [==============================] - 0s 86us/step - loss: 0.1966 - accuracy: 0.9200 - val_loss: 0.2029 - val_accuracy: 0.9300\n",
      "Epoch 45/100\n",
      "2000/2000 [==============================] - 0s 89us/step - loss: 0.1965 - accuracy: 0.9205 - val_loss: 0.2028 - val_accuracy: 0.9300\n",
      "Epoch 46/100\n",
      "2000/2000 [==============================] - 0s 94us/step - loss: 0.1965 - accuracy: 0.9200 - val_loss: 0.2027 - val_accuracy: 0.9300\n",
      "Epoch 47/100\n",
      "2000/2000 [==============================] - 0s 91us/step - loss: 0.1964 - accuracy: 0.9200 - val_loss: 0.2026 - val_accuracy: 0.9300\n",
      "Epoch 48/100\n",
      "2000/2000 [==============================] - 0s 81us/step - loss: 0.1964 - accuracy: 0.9200 - val_loss: 0.2026 - val_accuracy: 0.9300\n",
      "Epoch 49/100\n",
      "2000/2000 [==============================] - 0s 90us/step - loss: 0.1963 - accuracy: 0.9200 - val_loss: 0.2025 - val_accuracy: 0.9300\n",
      "Epoch 50/100\n",
      "2000/2000 [==============================] - 0s 69us/step - loss: 0.1963 - accuracy: 0.9200 - val_loss: 0.2024 - val_accuracy: 0.9300\n",
      "Epoch 51/100\n",
      "2000/2000 [==============================] - 0s 80us/step - loss: 0.1963 - accuracy: 0.9200 - val_loss: 0.2024 - val_accuracy: 0.9300\n",
      "Epoch 52/100\n",
      "2000/2000 [==============================] - 0s 87us/step - loss: 0.1962 - accuracy: 0.9200 - val_loss: 0.2023 - val_accuracy: 0.9300\n",
      "Epoch 53/100\n",
      "2000/2000 [==============================] - 0s 87us/step - loss: 0.1962 - accuracy: 0.9200 - val_loss: 0.2023 - val_accuracy: 0.9300\n",
      "Epoch 54/100\n",
      "2000/2000 [==============================] - 0s 88us/step - loss: 0.1962 - accuracy: 0.9205 - val_loss: 0.2023 - val_accuracy: 0.9300\n",
      "Epoch 55/100\n",
      "2000/2000 [==============================] - 0s 91us/step - loss: 0.1962 - accuracy: 0.9200 - val_loss: 0.2022 - val_accuracy: 0.9300\n",
      "Epoch 56/100\n"
     ]
    },
    {
     "name": "stdout",
     "output_type": "stream",
     "text": [
      "2000/2000 [==============================] - 0s 95us/step - loss: 0.1961 - accuracy: 0.9195 - val_loss: 0.2022 - val_accuracy: 0.9300\n",
      "Epoch 57/100\n",
      "2000/2000 [==============================] - 0s 95us/step - loss: 0.1961 - accuracy: 0.9200 - val_loss: 0.2022 - val_accuracy: 0.9300\n",
      "Epoch 58/100\n",
      "2000/2000 [==============================] - 0s 92us/step - loss: 0.1961 - accuracy: 0.9200 - val_loss: 0.2021 - val_accuracy: 0.9300\n",
      "Epoch 59/100\n",
      "2000/2000 [==============================] - 0s 95us/step - loss: 0.1961 - accuracy: 0.9200 - val_loss: 0.2021 - val_accuracy: 0.9300\n",
      "Epoch 60/100\n",
      "2000/2000 [==============================] - 0s 94us/step - loss: 0.1961 - accuracy: 0.9200 - val_loss: 0.2021 - val_accuracy: 0.9300\n",
      "Epoch 61/100\n",
      "2000/2000 [==============================] - 0s 91us/step - loss: 0.1960 - accuracy: 0.9200 - val_loss: 0.2020 - val_accuracy: 0.9300\n",
      "Epoch 62/100\n",
      "2000/2000 [==============================] - 0s 81us/step - loss: 0.1960 - accuracy: 0.9200 - val_loss: 0.2020 - val_accuracy: 0.9300\n",
      "Epoch 63/100\n",
      "2000/2000 [==============================] - 0s 80us/step - loss: 0.1960 - accuracy: 0.9200 - val_loss: 0.2020 - val_accuracy: 0.9300\n",
      "Epoch 64/100\n",
      "2000/2000 [==============================] - 0s 85us/step - loss: 0.1960 - accuracy: 0.9195 - val_loss: 0.2020 - val_accuracy: 0.9300\n",
      "Epoch 65/100\n",
      "2000/2000 [==============================] - 0s 84us/step - loss: 0.1960 - accuracy: 0.9190 - val_loss: 0.2019 - val_accuracy: 0.9300\n",
      "Epoch 66/100\n",
      "2000/2000 [==============================] - 0s 85us/step - loss: 0.1960 - accuracy: 0.9205 - val_loss: 0.2019 - val_accuracy: 0.9300\n",
      "Epoch 67/100\n",
      "2000/2000 [==============================] - 0s 83us/step - loss: 0.1960 - accuracy: 0.9195 - val_loss: 0.2019 - val_accuracy: 0.9300\n",
      "Epoch 68/100\n",
      "2000/2000 [==============================] - 0s 79us/step - loss: 0.1960 - accuracy: 0.9200 - val_loss: 0.2019 - val_accuracy: 0.9300\n",
      "Epoch 69/100\n",
      "2000/2000 [==============================] - 0s 92us/step - loss: 0.1960 - accuracy: 0.9195 - val_loss: 0.2019 - val_accuracy: 0.9300\n",
      "Epoch 70/100\n",
      "2000/2000 [==============================] - 0s 92us/step - loss: 0.1959 - accuracy: 0.9195 - val_loss: 0.2018 - val_accuracy: 0.9300\n",
      "Epoch 71/100\n",
      "2000/2000 [==============================] - 0s 83us/step - loss: 0.1959 - accuracy: 0.9200 - val_loss: 0.2018 - val_accuracy: 0.9300\n",
      "Epoch 72/100\n",
      "2000/2000 [==============================] - 0s 81us/step - loss: 0.1959 - accuracy: 0.9195 - val_loss: 0.2018 - val_accuracy: 0.9300\n",
      "Epoch 73/100\n",
      "2000/2000 [==============================] - 0s 91us/step - loss: 0.1959 - accuracy: 0.9195 - val_loss: 0.2018 - val_accuracy: 0.9300\n",
      "Epoch 74/100\n",
      "2000/2000 [==============================] - 0s 93us/step - loss: 0.1959 - accuracy: 0.9200 - val_loss: 0.2018 - val_accuracy: 0.9300\n",
      "Epoch 75/100\n",
      "2000/2000 [==============================] - 0s 86us/step - loss: 0.1959 - accuracy: 0.9195 - val_loss: 0.2018 - val_accuracy: 0.9300\n",
      "Epoch 76/100\n",
      "2000/2000 [==============================] - 0s 88us/step - loss: 0.1959 - accuracy: 0.9195 - val_loss: 0.2018 - val_accuracy: 0.9300\n",
      "Epoch 77/100\n",
      "2000/2000 [==============================] - 0s 97us/step - loss: 0.1959 - accuracy: 0.9195 - val_loss: 0.2018 - val_accuracy: 0.9300\n",
      "Epoch 78/100\n",
      "2000/2000 [==============================] - 0s 95us/step - loss: 0.1959 - accuracy: 0.9195 - val_loss: 0.2018 - val_accuracy: 0.9300\n",
      "Epoch 79/100\n",
      "2000/2000 [==============================] - 0s 84us/step - loss: 0.1959 - accuracy: 0.9195 - val_loss: 0.2017 - val_accuracy: 0.9300\n",
      "Epoch 80/100\n",
      "2000/2000 [==============================] - 0s 90us/step - loss: 0.1959 - accuracy: 0.9195 - val_loss: 0.2017 - val_accuracy: 0.9300\n",
      "Epoch 81/100\n",
      "2000/2000 [==============================] - 0s 83us/step - loss: 0.1959 - accuracy: 0.9195 - val_loss: 0.2017 - val_accuracy: 0.9300\n",
      "Epoch 82/100\n",
      "2000/2000 [==============================] - 0s 89us/step - loss: 0.1959 - accuracy: 0.9195 - val_loss: 0.2017 - val_accuracy: 0.9300\n",
      "Epoch 83/100\n",
      "2000/2000 [==============================] - 0s 84us/step - loss: 0.1959 - accuracy: 0.9195 - val_loss: 0.2017 - val_accuracy: 0.9300\n",
      "Epoch 84/100\n",
      "2000/2000 [==============================] - 0s 79us/step - loss: 0.1959 - accuracy: 0.9195 - val_loss: 0.2017 - val_accuracy: 0.9300\n",
      "Epoch 85/100\n",
      "2000/2000 [==============================] - 0s 80us/step - loss: 0.1959 - accuracy: 0.9195 - val_loss: 0.2017 - val_accuracy: 0.9300\n",
      "Epoch 86/100\n",
      "2000/2000 [==============================] - 0s 86us/step - loss: 0.1959 - accuracy: 0.9195 - val_loss: 0.2017 - val_accuracy: 0.9300\n",
      "Epoch 87/100\n",
      "2000/2000 [==============================] - 0s 79us/step - loss: 0.1959 - accuracy: 0.9195 - val_loss: 0.2017 - val_accuracy: 0.9300\n",
      "Epoch 88/100\n",
      "2000/2000 [==============================] - 0s 89us/step - loss: 0.1959 - accuracy: 0.9195 - val_loss: 0.2017 - val_accuracy: 0.9300\n",
      "Epoch 89/100\n",
      "2000/2000 [==============================] - 0s 82us/step - loss: 0.1959 - accuracy: 0.9195 - val_loss: 0.2016 - val_accuracy: 0.9300\n",
      "Epoch 90/100\n",
      "2000/2000 [==============================] - 0s 89us/step - loss: 0.1959 - accuracy: 0.9200 - val_loss: 0.2016 - val_accuracy: 0.9300\n",
      "Epoch 91/100\n",
      "2000/2000 [==============================] - 0s 90us/step - loss: 0.1959 - accuracy: 0.9195 - val_loss: 0.2016 - val_accuracy: 0.9300\n",
      "Epoch 92/100\n",
      "2000/2000 [==============================] - 0s 89us/step - loss: 0.1959 - accuracy: 0.9200 - val_loss: 0.2016 - val_accuracy: 0.9300\n",
      "Epoch 93/100\n",
      "2000/2000 [==============================] - 0s 94us/step - loss: 0.1959 - accuracy: 0.9195 - val_loss: 0.2016 - val_accuracy: 0.9300\n",
      "Epoch 94/100\n",
      "2000/2000 [==============================] - 0s 90us/step - loss: 0.1959 - accuracy: 0.9195 - val_loss: 0.2016 - val_accuracy: 0.9300\n",
      "Epoch 95/100\n",
      "2000/2000 [==============================] - 0s 91us/step - loss: 0.1959 - accuracy: 0.9195 - val_loss: 0.2016 - val_accuracy: 0.9300\n",
      "Epoch 96/100\n",
      "2000/2000 [==============================] - 0s 88us/step - loss: 0.1959 - accuracy: 0.9195 - val_loss: 0.2016 - val_accuracy: 0.9300\n",
      "Epoch 97/100\n",
      "2000/2000 [==============================] - 0s 90us/step - loss: 0.1959 - accuracy: 0.9195 - val_loss: 0.2016 - val_accuracy: 0.9300\n",
      "Epoch 98/100\n",
      "2000/2000 [==============================] - 0s 88us/step - loss: 0.1959 - accuracy: 0.9200 - val_loss: 0.2016 - val_accuracy: 0.9300\n",
      "Epoch 99/100\n",
      "2000/2000 [==============================] - 0s 96us/step - loss: 0.1959 - accuracy: 0.9190 - val_loss: 0.2016 - val_accuracy: 0.9300\n",
      "Epoch 100/100\n",
      "2000/2000 [==============================] - 0s 91us/step - loss: 0.1959 - accuracy: 0.9195 - val_loss: 0.2016 - val_accuracy: 0.9300\n"
     ]
    },
    {
     "data": {
      "text/plain": [
       "<keras.callbacks.callbacks.History at 0x1fd73e35390>"
      ]
     },
     "execution_count": 7,
     "metadata": {},
     "output_type": "execute_result"
    }
   ],
   "source": [
    "logr.fit(X_train, Y_train, batch_size=16, nb_epoch=100,\n",
    "    verbose=1, validation_data=(X_test, Y_test))"
   ]
  },
  {
   "cell_type": "code",
   "execution_count": null,
   "metadata": {
    "colab": {},
    "colab_type": "code",
    "id": "0exwqgPMZOCX"
   },
   "outputs": [],
   "source": []
  }
 ],
 "metadata": {
  "colab": {
   "collapsed_sections": [],
   "name": "KA_66_Lab_1_Ex_2_Keras.ipynb",
   "provenance": []
  },
  "kernelspec": {
   "display_name": "Python 3",
   "language": "python",
   "name": "python3"
  },
  "language_info": {
   "codemirror_mode": {
    "name": "ipython",
    "version": 3
   },
   "file_extension": ".py",
   "mimetype": "text/x-python",
   "name": "python",
   "nbconvert_exporter": "python",
   "pygments_lexer": "ipython3",
   "version": "3.7.3"
  }
 },
 "nbformat": 4,
 "nbformat_minor": 1
}
