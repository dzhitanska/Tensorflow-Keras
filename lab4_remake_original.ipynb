{
 "cells": [
  {
   "cell_type": "code",
   "execution_count": 2,
   "metadata": {
    "colab": {
     "base_uri": "https://localhost:8080/",
     "height": 63
    },
    "colab_type": "code",
    "id": "_eGim3eLBcqy",
    "outputId": "340e2ce2-eb43-473f-ba9b-e2a51ce8eef8"
   },
   "outputs": [],
   "source": [
    "from tensorflow.keras.datasets import cifar10\n",
    "from tensorflow.keras.models import Sequential\n",
    "from tensorflow.keras.layers import Dense\n",
    "from tensorflow.keras import utils\n",
    "from tensorflow.keras.preprocessing import image\n",
    "#from google.colab import files\n",
    "import numpy as np\n",
    "import matplotlib.pyplot as plt\n",
    "from PIL import Image\n",
    "%matplotlib inline \n",
    "from functools import reduce\n",
    "\n",
    "from tensorflow.keras import datasets, layers, models"
   ]
  },
  {
   "cell_type": "code",
   "execution_count": 3,
   "metadata": {
    "colab": {
     "base_uri": "https://localhost:8080/",
     "height": 51
    },
    "colab_type": "code",
    "id": "kTKLRMUKBiGl",
    "outputId": "020d3541-e56a-4538-f255-d4c437e0697c"
   },
   "outputs": [],
   "source": [
    "(x_train_org, y_train_org), (x_test_org, y_test_org) = cifar10.load_data()"
   ]
  },
  {
   "cell_type": "code",
   "execution_count": 4,
   "metadata": {
    "colab": {
     "base_uri": "https://localhost:8080/",
     "height": 34
    },
    "colab_type": "code",
    "id": "IdSiK2J2CSCQ",
    "outputId": "89e41300-b7d6-4b91-b962-b8bc6727c551"
   },
   "outputs": [
    {
     "name": "stdout",
     "output_type": "stream",
     "text": [
      "[9]\n"
     ]
    }
   ],
   "source": [
    "print(y_train_org[2])"
   ]
  },
  {
   "cell_type": "code",
   "execution_count": 20,
   "metadata": {
    "colab": {
     "base_uri": "https://localhost:8080/",
     "height": 266
    },
    "colab_type": "code",
    "id": "MUnW427wCBxM",
    "outputId": "a451ada9-b77b-43b2-ad5a-8c2ee49fd7ed"
   },
   "outputs": [
    {
     "data": {
      "image/png": "[encoded data removed]",
      "text/plain": [
       "<Figure size 432x288 with 1 Axes>"
      ]
     },
     "metadata": {
      "needs_background": "light"
     },
     "output_type": "display_data"
    }
   ],
   "source": [
    "n = 1488\n",
    "\n",
    "plt.imshow(Image.fromarray(x_train_org[n]).convert('RGBA'))\n",
    "plt.show()"
   ]
  },
  {
   "cell_type": "code",
   "execution_count": 1,
   "metadata": {
    "colab": {
     "base_uri": "https://localhost:8080/",
     "height": 136
    },
    "colab_type": "code",
    "id": "38tno4ckD-3v",
    "outputId": "8146c297-8325-4fda-d99a-ade2665ccefd"
   },
   "outputs": [
    {
     "ename": "NameError",
     "evalue": "name 'x_test_org' is not defined",
     "output_type": "error",
     "traceback": [
      "\u001b[1;31m---------------------------------------------------------------------------\u001b[0m",
      "\u001b[1;31mNameError\u001b[0m                                 Traceback (most recent call last)",
      "\u001b[1;32m<ipython-input-1-cc28ed881bf7>\u001b[0m in \u001b[0;36m<module>\u001b[1;34m\u001b[0m\n\u001b[1;32m----> 1\u001b[1;33m \u001b[0mprint\u001b[0m\u001b[1;33m(\u001b[0m\u001b[0mlen\u001b[0m\u001b[1;33m(\u001b[0m\u001b[0mx_test_org\u001b[0m\u001b[1;33m[\u001b[0m\u001b[1;36m0\u001b[0m\u001b[1;33m]\u001b[0m\u001b[1;33m[\u001b[0m\u001b[1;36m0\u001b[0m\u001b[1;33m]\u001b[0m\u001b[1;33m)\u001b[0m\u001b[1;33m)\u001b[0m\u001b[1;33m\u001b[0m\u001b[1;33m\u001b[0m\u001b[0m\n\u001b[0m\u001b[0;32m      2\u001b[0m \u001b[1;33m\u001b[0m\u001b[0m\n\u001b[0;32m      3\u001b[0m \u001b[0ma\u001b[0m \u001b[1;33m=\u001b[0m \u001b[0mnp\u001b[0m\u001b[1;33m.\u001b[0m\u001b[0marray\u001b[0m\u001b[1;33m(\u001b[0m\u001b[1;33m[\u001b[0m\u001b[1;33m[\u001b[0m\u001b[1;33m[\u001b[0m\u001b[1;33m[\u001b[0m\u001b[1;36m3\u001b[0m\u001b[1;33m,\u001b[0m \u001b[1;36m4\u001b[0m\u001b[1;33m]\u001b[0m\u001b[1;33m,\u001b[0m \u001b[1;33m[\u001b[0m\u001b[1;36m5\u001b[0m\u001b[1;33m,\u001b[0m \u001b[1;36m8\u001b[0m\u001b[1;33m]\u001b[0m\u001b[1;33m]\u001b[0m\u001b[1;33m,\u001b[0m \u001b[1;33m[\u001b[0m\u001b[1;33m[\u001b[0m\u001b[1;36m2\u001b[0m\u001b[1;33m,\u001b[0m \u001b[1;36m2\u001b[0m\u001b[1;33m]\u001b[0m\u001b[1;33m,\u001b[0m \u001b[1;33m[\u001b[0m\u001b[1;36m8\u001b[0m\u001b[1;33m,\u001b[0m \u001b[1;36m7\u001b[0m\u001b[1;33m]\u001b[0m\u001b[1;33m]\u001b[0m\u001b[1;33m]\u001b[0m\u001b[1;33m,\u001b[0m \u001b[1;33m[\u001b[0m\u001b[1;33m[\u001b[0m\u001b[1;33m[\u001b[0m\u001b[1;36m7\u001b[0m\u001b[1;33m,\u001b[0m \u001b[1;36m9\u001b[0m\u001b[1;33m]\u001b[0m\u001b[1;33m,\u001b[0m \u001b[1;33m[\u001b[0m\u001b[1;36m2\u001b[0m\u001b[1;33m,\u001b[0m \u001b[1;36m5\u001b[0m\u001b[1;33m]\u001b[0m\u001b[1;33m]\u001b[0m\u001b[1;33m,\u001b[0m \u001b[1;33m[\u001b[0m\u001b[1;33m[\u001b[0m\u001b[1;36m0\u001b[0m\u001b[1;33m,\u001b[0m \u001b[1;36m3\u001b[0m\u001b[1;33m]\u001b[0m\u001b[1;33m,\u001b[0m \u001b[1;33m[\u001b[0m\u001b[1;36m5\u001b[0m\u001b[1;33m,\u001b[0m \u001b[1;36m88\u001b[0m\u001b[1;33m]\u001b[0m\u001b[1;33m]\u001b[0m\u001b[1;33m]\u001b[0m\u001b[1;33m]\u001b[0m\u001b[1;33m)\u001b[0m\u001b[1;33m\u001b[0m\u001b[1;33m\u001b[0m\u001b[0m\n\u001b[0;32m      4\u001b[0m \u001b[1;31m# print(a.reshape(2, 8))\u001b[0m\u001b[1;33m\u001b[0m\u001b[1;33m\u001b[0m\u001b[1;33m\u001b[0m\u001b[0m\n\u001b[0;32m      5\u001b[0m \u001b[0mprint\u001b[0m\u001b[1;33m(\u001b[0m\u001b[0ma\u001b[0m\u001b[1;33m.\u001b[0m\u001b[0mshape\u001b[0m\u001b[1;33m)\u001b[0m\u001b[1;33m\u001b[0m\u001b[1;33m\u001b[0m\u001b[0m\n",
      "\u001b[1;31mNameError\u001b[0m: name 'x_test_org' is not defined"
     ]
    }
   ],
   "source": [
    "print(len(x_test_org[0][0]))\n",
    "\n",
    "a = np.array([[[[3, 4], [5, 8]], [[2, 2], [8, 7]]], [[[7, 9], [2, 5]], [[0, 3], [5, 88]]]])\n",
    "# print(a.reshape(2, 8))\n",
    "print(a.shape)\n",
    "print(type(a))\n",
    "\n",
    "print(x_train_org.shape)\n",
    "print(type(x_train_org))\n",
    "print(len(x_train_org))\n",
    "s = x_train_org.shape\n",
    "\n"
   ]
  },
  {
   "cell_type": "code",
   "execution_count": 22,
   "metadata": {
    "colab": {
     "base_uri": "https://localhost:8080/",
     "height": 51
    },
    "colab_type": "code",
    "id": "H7ZAeLzZCjV9",
    "outputId": "0e2458ed-7713-452a-a364-a01026123a3b"
   },
   "outputs": [
    {
     "name": "stdout",
     "output_type": "stream",
     "text": [
      "(50000, 32, 32, 3)\n",
      "(10000, 32, 32, 3)\n"
     ]
    }
   ],
   "source": [
    "shape_len = reduce(lambda x, y: x*y, x_train_org.shape[1:])\n",
    "print(x_train_org.shape)\n",
    "print(x_test_org.shape)\n",
    "x_train = x_train_org.reshape(x_train_org.shape[0], shape_len)\n",
    "\n",
    "x_test = x_test_org.reshape(x_test_org.shape[0], shape_len)\n",
    "\n",
    "# Векторизованные операции\n",
    "# Применяются к каждому элементу массива отдельно\n",
    "x_train = x_train.astype('float32')\n",
    "x_train = x_train / 255\n",
    "x_test = x_test.astype('float32')\n",
    "x_test = x_test / 255 \n",
    "\n",
    "y_train = utils.to_categorical(y_train_org, 10)\n",
    "y_test = utils.to_categorical(y_test_org, 10)"
   ]
  },
  {
   "cell_type": "code",
   "execution_count": 23,
   "metadata": {
    "colab": {},
    "colab_type": "code",
    "id": "QCQWXNGjC54a"
   },
   "outputs": [],
   "source": [
    "model = Sequential()\n",
    "# Перший шар з 800 нейронів, 784 входів в кожний нейрон\n",
    "model.add(Dense(800, input_dim=shape_len, activation=\"relu\"))\n",
    "model.add(Dense(400, activation=\"relu\"))\n",
    "# Вихідний шар з 10 нейронів за кількістю рукописних цифр)\n",
    "model.add(Dense(10, activation=\"softmax\"))"
   ]
  },
  {
   "cell_type": "code",
   "execution_count": 24,
   "metadata": {
    "colab": {
     "base_uri": "https://localhost:8080/",
     "height": 731
    },
    "colab_type": "code",
    "id": "jETzM8zVsFS8",
    "outputId": "701e0da2-168e-4227-adcd-ac23e3036ced"
   },
   "outputs": [
    {
     "name": "stdout",
     "output_type": "stream",
     "text": [
      "Train on 40000 samples, validate on 10000 samples\n",
      "Epoch 1/20\n",
      "40000/40000 [==============================] - 11s 283us/sample - loss: 2.0152 - accuracy: 0.2931 - val_loss: 1.8214 - val_accuracy: 0.3595\n",
      "Epoch 2/20\n",
      "40000/40000 [==============================] - 11s 266us/sample - loss: 1.7379 - accuracy: 0.3816 - val_loss: 1.7352 - val_accuracy: 0.3737\n",
      "Epoch 3/20\n",
      "40000/40000 [==============================] - 11s 269us/sample - loss: 1.6424 - accuracy: 0.4165 - val_loss: 1.6561 - val_accuracy: 0.4031\n",
      "Epoch 4/20\n",
      "40000/40000 [==============================] - 11s 266us/sample - loss: 1.5806 - accuracy: 0.4379 - val_loss: 1.5874 - val_accuracy: 0.4384\n",
      "Epoch 5/20\n",
      "40000/40000 [==============================] - 11s 266us/sample - loss: 1.5379 - accuracy: 0.4530 - val_loss: 1.5410 - val_accuracy: 0.4617\n",
      "Epoch 6/20\n",
      "40000/40000 [==============================] - 11s 271us/sample - loss: 1.5002 - accuracy: 0.4671 - val_loss: 1.5769 - val_accuracy: 0.4351\n",
      "Epoch 7/20\n",
      "40000/40000 [==============================] - 11s 276us/sample - loss: 1.4575 - accuracy: 0.4826 - val_loss: 1.5097 - val_accuracy: 0.4659\n",
      "Epoch 8/20\n",
      "40000/40000 [==============================] - 11s 275us/sample - loss: 1.4318 - accuracy: 0.4918 - val_loss: 1.4917 - val_accuracy: 0.4791\n",
      "Epoch 9/20\n",
      "40000/40000 [==============================] - 11s 276us/sample - loss: 1.3938 - accuracy: 0.5059 - val_loss: 1.5012 - val_accuracy: 0.4741\n",
      "Epoch 10/20\n",
      "40000/40000 [==============================] - 11s 274us/sample - loss: 1.3686 - accuracy: 0.5155 - val_loss: 1.4505 - val_accuracy: 0.4907\n",
      "Epoch 11/20\n",
      "40000/40000 [==============================] - 11s 277us/sample - loss: 1.3534 - accuracy: 0.5167 - val_loss: 1.4799 - val_accuracy: 0.4765\n",
      "Epoch 12/20\n",
      "40000/40000 [==============================] - 11s 280us/sample - loss: 1.3242 - accuracy: 0.5302 - val_loss: 1.4484 - val_accuracy: 0.4931\n",
      "Epoch 13/20\n",
      "40000/40000 [==============================] - 11s 280us/sample - loss: 1.2936 - accuracy: 0.5393 - val_loss: 1.4276 - val_accuracy: 0.5038\n",
      "Epoch 14/20\n",
      "40000/40000 [==============================] - 11s 274us/sample - loss: 1.2799 - accuracy: 0.5429 - val_loss: 1.4212 - val_accuracy: 0.5004\n",
      "Epoch 15/20\n",
      "40000/40000 [==============================] - 11s 265us/sample - loss: 1.2520 - accuracy: 0.5548 - val_loss: 1.4216 - val_accuracy: 0.5088\n",
      "Epoch 16/20\n",
      "40000/40000 [==============================] - 11s 270us/sample - loss: 1.2327 - accuracy: 0.5606 - val_loss: 1.4752 - val_accuracy: 0.4837\n",
      "Epoch 17/20\n",
      "40000/40000 [==============================] - 11s 271us/sample - loss: 1.2062 - accuracy: 0.5714 - val_loss: 1.4148 - val_accuracy: 0.5126\n",
      "Epoch 18/20\n",
      "40000/40000 [==============================] - 11s 273us/sample - loss: 1.1835 - accuracy: 0.5791 - val_loss: 1.4503 - val_accuracy: 0.4993\n",
      "Epoch 19/20\n",
      "40000/40000 [==============================] - 11s 275us/sample - loss: 1.1760 - accuracy: 0.5816 - val_loss: 1.4337 - val_accuracy: 0.5065\n",
      "Epoch 20/20\n",
      "40000/40000 [==============================] - 11s 277us/sample - loss: 1.1380 - accuracy: 0.5971 - val_loss: 1.4395 - val_accuracy: 0.5087\n"
     ]
    },
    {
     "data": {
      "text/plain": [
       "<tensorflow.python.keras.callbacks.History at 0x2cfa1249a20>"
      ]
     },
     "execution_count": 24,
     "metadata": {},
     "output_type": "execute_result"
    }
   ],
   "source": [
    "model.compile(loss=\"categorical_crossentropy\", optimizer=\"adam\", metrics=[\"accuracy\"])\n",
    "model.fit(x_train, y_train, batch_size=200, epochs=20,  verbose=1, validation_split=0.2)"
   ]
  },
  {
   "cell_type": "code",
   "execution_count": 25,
   "metadata": {},
   "outputs": [
    {
     "name": "stdout",
     "output_type": "stream",
     "text": [
      "[[3.7803559e-03 1.8100956e-02 2.4807226e-02 ... 4.9371198e-03\n",
      "  1.2012175e-02 1.5396450e-02]\n",
      " [3.4412965e-02 3.5141964e-02 4.0928755e-04 ... 6.2050740e-04\n",
      "  4.6384043e-01 4.6322894e-01]\n",
      " [6.5548933e-01 1.7752330e-01 4.5855498e-04 ... 3.7406705e-02\n",
      "  6.0882486e-02 6.6138856e-02]\n",
      " ...\n",
      " [1.8248769e-03 5.4047222e-04 1.5802681e-01 ... 4.1612744e-02\n",
      "  1.6469331e-02 3.7240516e-03]\n",
      " [3.5674132e-03 1.3981487e-03 1.1272180e-01 ... 6.4307943e-02\n",
      "  8.5913757e-04 2.7525353e-03]\n",
      " [1.9629886e-02 2.4239745e-03 9.1569707e-02 ... 5.9298670e-01\n",
      "  5.8094799e-03 1.1188758e-02]]\n",
      "6\n",
      "[0. 0. 0. 0. 0. 0. 1. 0. 0. 0.]\n"
     ]
    },
    {
     "data": {
      "image/png": "[encoded data removed]",
      "text/plain": [
       "<Figure size 432x288 with 1 Axes>"
      ]
     },
     "metadata": {
      "needs_background": "light"
     },
     "output_type": "display_data"
    }
   ],
   "source": [
    "y_pred = model.predict(x_test)\n",
    "print(y_pred)\n",
    "print(np.argmax(y_pred[5]))\n",
    "print(y_test[5])\n",
    "\n",
    "plt.imshow(Image.fromarray(x_test_org[5]).convert('RGBA'))\n",
    "plt.show()"
   ]
  }
 ],
 "metadata": {
  "colab": {
   "collapsed_sections": [],
   "name": "lab4_remake_original.ipynb",
   "provenance": []
  },
  "kernelspec": {
   "display_name": "Python 3",
   "language": "python",
   "name": "python3"
  },
  "language_info": {
   "codemirror_mode": {
    "name": "ipython",
    "version": 3
   },
   "file_extension": ".py",
   "mimetype": "text/x-python",
   "name": "python",
   "nbconvert_exporter": "python",
   "pygments_lexer": "ipython3",
   "version": "3.7.3"
  }
 },
 "nbformat": 4,
 "nbformat_minor": 1
}
