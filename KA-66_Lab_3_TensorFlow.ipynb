{
 "cells": [
  {
   "cell_type": "code",
   "execution_count": 21,
   "metadata": {
    "colab": {},
    "colab_type": "code",
    "id": "J3cXswCVu_-Z"
   },
   "outputs": [
    {
     "ename": "ModuleNotFoundError",
     "evalue": "No module named 'tensorflow.examples.tutorials'",
     "output_type": "error",
     "traceback": [
      "\u001b[1;31m---------------------------------------------------------------------------\u001b[0m",
      "\u001b[1;31mModuleNotFoundError\u001b[0m                       Traceback (most recent call last)",
      "\u001b[1;32m<ipython-input-21-8bf8ae5a5303>\u001b[0m in \u001b[0;36m<module>\u001b[1;34m\u001b[0m\n\u001b[1;32m----> 1\u001b[1;33m \u001b[1;32mfrom\u001b[0m \u001b[0mtensorflow\u001b[0m\u001b[1;33m.\u001b[0m\u001b[0mexamples\u001b[0m\u001b[1;33m.\u001b[0m\u001b[0mtutorials\u001b[0m\u001b[1;33m.\u001b[0m\u001b[0mmnist\u001b[0m \u001b[1;32mimport\u001b[0m \u001b[0minput_data\u001b[0m\u001b[1;33m\u001b[0m\u001b[1;33m\u001b[0m\u001b[0m\n\u001b[0m\u001b[0;32m      2\u001b[0m \u001b[0mmnist\u001b[0m \u001b[1;33m=\u001b[0m \u001b[0minput_data\u001b[0m\u001b[1;33m.\u001b[0m\u001b[0mread_data_sets\u001b[0m\u001b[1;33m(\u001b[0m\u001b[1;34m\"MNIST_data/\"\u001b[0m\u001b[1;33m,\u001b[0m \u001b[0mone_hot\u001b[0m\u001b[1;33m=\u001b[0m\u001b[1;32mTrue\u001b[0m\u001b[1;33m)\u001b[0m\u001b[1;33m\u001b[0m\u001b[1;33m\u001b[0m\u001b[0m\n",
      "\u001b[1;31mModuleNotFoundError\u001b[0m: No module named 'tensorflow.examples.tutorials'"
     ]
    }
   ],
   "source": [
    "from tensorflow.examples.tutorials.mnist import input_data\n",
    "mnist = input_data.read_data_sets(\"MNIST_data/\", one_hot=True)"
   ]
  },
  {
   "cell_type": "markdown",
   "metadata": {
    "colab_type": "text",
    "id": "VNO10raDODhb"
   },
   "source": []
  },
  {
   "cell_type": "code",
   "execution_count": 20,
   "metadata": {
    "colab": {},
    "colab_type": "code",
    "id": "D6SiXEieUQcV"
   },
   "outputs": [
    {
     "ename": "AttributeError",
     "evalue": "module 'tensorflow.keras.datasets.mnist' has no attribute 'train'",
     "output_type": "error",
     "traceback": [
      "\u001b[1;31m---------------------------------------------------------------------------\u001b[0m",
      "\u001b[1;31mAttributeError\u001b[0m                            Traceback (most recent call last)",
      "\u001b[1;32m<ipython-input-20-78f273151548>\u001b[0m in \u001b[0;36m<module>\u001b[1;34m\u001b[0m\n\u001b[1;32m----> 1\u001b[1;33m \u001b[0mprint\u001b[0m\u001b[1;33m(\u001b[0m\u001b[0mmnist\u001b[0m\u001b[1;33m.\u001b[0m\u001b[0mtrain\u001b[0m\u001b[1;33m.\u001b[0m\u001b[0mimages\u001b[0m\u001b[1;33m[\u001b[0m\u001b[1;36m0\u001b[0m\u001b[1;33m]\u001b[0m\u001b[1;33m)\u001b[0m\u001b[1;33m\u001b[0m\u001b[1;33m\u001b[0m\u001b[0m\n\u001b[0m",
      "\u001b[1;31mAttributeError\u001b[0m: module 'tensorflow.keras.datasets.mnist' has no attribute 'train'"
     ]
    }
   ],
   "source": [
    "print(mnist.train.images[0])"
   ]
  },
  {
   "cell_type": "code",
   "execution_count": 0,
   "metadata": {
    "colab": {
     "base_uri": "https://localhost:8080/",
     "height": 34
    },
    "colab_type": "code",
    "executionInfo": {
     "elapsed": 1539,
     "status": "ok",
     "timestamp": 1574069096768,
     "user": {
      "displayName": "Nadezhda Nedashkovskaya",
      "photoUrl": "https://lh3.googleusercontent.com/a-/AAuE7mB_ZJkTCWgNC5aVqzK-jaE7iVxRAyRTaZuWDlod=s64",
      "userId": "11216524440663778998"
     },
     "user_tz": -120
    },
    "id": "MdDmWnLGVGvn",
    "outputId": "591afb28-6af1-4d06-fa6c-896d820e4fc0"
   },
   "outputs": [
    {
     "name": "stdout",
     "output_type": "stream",
     "text": [
      "[0. 0. 0. 1. 0. 0. 0. 0. 0. 0.]\n"
     ]
    }
   ],
   "source": [
    "print(mnist.train.labels[1])"
   ]
  },
  {
   "cell_type": "code",
   "execution_count": 0,
   "metadata": {
    "colab": {
     "base_uri": "https://localhost:8080/",
     "height": 34
    },
    "colab_type": "code",
    "executionInfo": {
     "elapsed": 30,
     "status": "ok",
     "timestamp": 1574070208775,
     "user": {
      "displayName": "Nadezhda Nedashkovskaya",
      "photoUrl": "https://lh3.googleusercontent.com/a-/AAuE7mB_ZJkTCWgNC5aVqzK-jaE7iVxRAyRTaZuWDlod=s64",
      "userId": "11216524440663778998"
     },
     "user_tz": -120
    },
    "id": "-QKbPxSNUVPd",
    "outputId": "0602713c-058a-4bb4-88cb-ec590e8f73d2"
   },
   "outputs": [
    {
     "name": "stdout",
     "output_type": "stream",
     "text": [
      "[0. 0. 1. 0. 0. 0. 0. 0. 0. 0.]\n"
     ]
    }
   ],
   "source": [
    "print(mnist.test.labels[1])"
   ]
  },
  {
   "cell_type": "code",
   "execution_count": 0,
   "metadata": {
    "colab": {},
    "colab_type": "code",
    "id": "xeNbc7yGvXB7"
   },
   "outputs": [],
   "source": [
    "import tensorflow as tf\n",
    "x = tf.placeholder(tf.float32, [None, 784])\n",
    "W = tf.Variable(tf.zeros([784, 10]))\n",
    "b = tf.Variable(tf.zeros([10]))"
   ]
  },
  {
   "cell_type": "markdown",
   "metadata": {
    "colab_type": "text",
    "id": "anzTMg5OZqFi"
   },
   "source": [
    "**Створимо модель з єдиним шаром - це вихідний шар softmax**"
   ]
  },
  {
   "cell_type": "code",
   "execution_count": 0,
   "metadata": {
    "colab": {},
    "colab_type": "code",
    "id": "Cets73Ravgug"
   },
   "outputs": [],
   "source": [
    "y = tf.nn.softmax(tf.matmul(x, W) + b)\n",
    "y_ = tf.placeholder(tf.float32, [None, 10])\n",
    "cross_entropy = tf.reduce_mean(-tf.reduce_sum(y_ * tf.log(y), reduction_indices=[1]))\n"
   ]
  },
  {
   "cell_type": "code",
   "execution_count": 0,
   "metadata": {
    "colab": {},
    "colab_type": "code",
    "id": "spvTmBmrvvRl"
   },
   "outputs": [],
   "source": [
    "train_step = tf.train.GradientDescentOptimizer(0.1).minimize(cross_entropy)"
   ]
  },
  {
   "cell_type": "code",
   "execution_count": 0,
   "metadata": {
    "colab": {},
    "colab_type": "code",
    "id": "UYoAmWRPmuO8"
   },
   "outputs": [],
   "source": [
    "train_step = tf.train.AdamOptimizer().minimize(cross_entropy)"
   ]
  },
  {
   "cell_type": "code",
   "execution_count": 0,
   "metadata": {
    "colab": {},
    "colab_type": "code",
    "id": "8rw39CDGv0nE"
   },
   "outputs": [],
   "source": [
    "init = tf.global_variables_initializer()\n",
    "sess = tf.Session()\n",
    "sess.run(init)\n",
    "for i in range(1000):\n",
    "  batch_xs, batch_ys = mnist.train.next_batch(100) \n",
    "  sess.run(train_step, feed_dict={x: batch_xs, y_: batch_ys})"
   ]
  },
  {
   "cell_type": "code",
   "execution_count": 0,
   "metadata": {
    "colab": {
     "base_uri": "https://localhost:8080/",
     "height": 34
    },
    "colab_type": "code",
    "executionInfo": {
     "elapsed": 1231,
     "status": "ok",
     "timestamp": 1574070302600,
     "user": {
      "displayName": "Nadezhda Nedashkovskaya",
      "photoUrl": "https://lh3.googleusercontent.com/a-/AAuE7mB_ZJkTCWgNC5aVqzK-jaE7iVxRAyRTaZuWDlod=s64",
      "userId": "11216524440663778998"
     },
     "user_tz": -120
    },
    "id": "IgclNt-cxAK9",
    "outputId": "bac4d72e-0c8a-4ab2-a44a-94a8da1a1b67"
   },
   "outputs": [
    {
     "name": "stdout",
     "output_type": "stream",
     "text": [
      "Точність: 0.9103\n"
     ]
    }
   ],
   "source": [
    "correct_prediction = tf.equal(tf.argmax(y, 1), tf.argmax(y_, 1))\n",
    "accuracy = tf.reduce_mean(tf.cast(correct_prediction, tf.float32))\n",
    "print(\"Точність: %s\" %sess.run(accuracy, feed_dict={x: mnist.test.images, y_: mnist.test.labels}))"
   ]
  },
  {
   "cell_type": "markdown",
   "metadata": {
    "colab_type": "text",
    "id": "c1Pj8VZmZek2"
   },
   "source": [
    "**Додамо в модель скритий шар ReLU**"
   ]
  },
  {
   "cell_type": "code",
   "execution_count": 0,
   "metadata": {
    "colab": {},
    "colab_type": "code",
    "id": "DMjuIiIDyKQz"
   },
   "outputs": [],
   "source": [
    "W_relu = tf.Variable(tf.truncated_normal([784, 50], stddev=0.1))\n",
    "b_relu = tf.Variable(tf.truncated_normal([50], stddev=0.1))\n",
    "h = tf.nn.relu(tf.matmul(x, W_relu) + b_relu)"
   ]
  },
  {
   "cell_type": "code",
   "execution_count": 0,
   "metadata": {
    "colab": {},
    "colab_type": "code",
    "id": "LuZ8eU7EySw1"
   },
   "outputs": [],
   "source": [
    "keep_probability = tf.placeholder(tf.float32)\n",
    "h_drop = tf.nn.dropout(h, keep_probability)"
   ]
  },
  {
   "cell_type": "code",
   "execution_count": 0,
   "metadata": {
    "colab": {},
    "colab_type": "code",
    "id": "6SmdFPeqyiLy"
   },
   "outputs": [],
   "source": [
    "W = tf.Variable(tf.zeros([50, 10]))\n",
    "b = tf.Variable(tf.zeros([10]))\n",
    "y = tf.nn.softmax(tf.matmul(h_drop, W) + b)"
   ]
  },
  {
   "cell_type": "code",
   "execution_count": 0,
   "metadata": {
    "colab": {
     "base_uri": "https://localhost:8080/",
     "height": 35
    },
    "colab_type": "code",
    "id": "QFJke65Iylhm",
    "outputId": "1e9d4f6f-bfbe-4d03-b209-be4a67420fe4"
   },
   "outputs": [
    {
     "name": "stdout",
     "output_type": "stream",
     "text": [
      "Точність: 0.9201\n"
     ]
    }
   ],
   "source": [
    "for i in range(1000):\n",
    "  batch_xs, batch_ys = mnist.train.next_batch(100) \n",
    "  sess.run(train_step, feed_dict={x: batch_xs, y_: batch_ys,keep_probability: 0.8})\n",
    "print(\"Точність: %s\" % sess.run(accuracy, feed_dict={\n",
    "x: mnist.test.images, y_: mnist.test.labels, keep_probability: 1.} ))"
   ]
  },
  {
   "cell_type": "markdown",
   "metadata": {
    "colab_type": "text",
    "id": "ShMxpuq3dXhl"
   },
   "source": [
    "Модифікована модель з одним скритим шаром ReLU"
   ]
  },
  {
   "cell_type": "code",
   "execution_count": 0,
   "metadata": {
    "colab": {},
    "colab_type": "code",
    "id": "ICN4UW2ldovi"
   },
   "outputs": [],
   "source": [
    "W_relu = tf.Variable(tf.truncated_normal([784, 50], stddev=0.1))\n",
    "b_relu = tf.Variable(tf.truncated_normal([50], stddev=0.1))\n",
    "h = tf.nn.relu(tf.matmul(x, W_relu) + b_relu)\n",
    "\n",
    "keep_probability = tf.placeholder(tf.float32)\n",
    "h_drop = tf.nn.dropout(h, keep_probability)"
   ]
  },
  {
   "cell_type": "code",
   "execution_count": 0,
   "metadata": {
    "colab": {},
    "colab_type": "code",
    "id": "lD5tkcOAdz2R"
   },
   "outputs": [],
   "source": [
    "W = tf.Variable(tf.zeros([50, 10]))\n",
    "b = tf.Variable(tf.zeros([10]))\n",
    "logit = tf.matmul(h_drop, W) + b\n",
    "\n",
    "cross_entropy = tf.reduce_mean(tf.nn.softmax_cross_entropy_with_logits(labels=y_, logits=logit))"
   ]
  },
  {
   "cell_type": "code",
   "execution_count": 0,
   "metadata": {
    "colab": {
     "base_uri": "https://localhost:8080/",
     "height": 35
    },
    "colab_type": "code",
    "id": "PQ0mLadHeMb0",
    "outputId": "f6bce3c2-81a0-4b8e-d18a-e506b538fae8"
   },
   "outputs": [
    {
     "name": "stdout",
     "output_type": "stream",
     "text": [
      "Точність: 0.9277\n"
     ]
    }
   ],
   "source": [
    "for i in range(10000):\n",
    "   batch_xs, batch_ys = mnist.train.next_batch(100) \n",
    "   sess.run(train_step, feed_dict={x: batch_xs, y_: batch_ys, keep_probability: 0.8}) \n",
    "print(\"Точність: %s\" % sess.run(accuracy, feed_dict={\n",
    "x: mnist.test.images, y_: mnist.test.labels, keep_probability: 1.}))"
   ]
  }
 ],
 "metadata": {
  "colab": {
   "collapsed_sections": [],
   "name": "KA-66_Lab_3_TensorFlow.ipynb",
   "provenance": []
  },
  "kernelspec": {
   "display_name": "Python 3",
   "language": "python",
   "name": "python3"
  },
  "language_info": {
   "codemirror_mode": {
    "name": "ipython",
    "version": 3
   },
   "file_extension": ".py",
   "mimetype": "text/x-python",
   "name": "python",
   "nbconvert_exporter": "python",
   "pygments_lexer": "ipython3",
   "version": "3.7.3"
  }
 },
 "nbformat": 4,
 "nbformat_minor": 1
}
